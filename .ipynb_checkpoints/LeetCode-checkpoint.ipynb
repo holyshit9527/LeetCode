{
 "cells": [
  {
   "cell_type": "markdown",
   "metadata": {},
   "source": [
    "## 数组的练习题\n",
    "* 283\n",
    "* 27\n",
    "* 26\n",
    "* 80\n",
    "* 3\n",
    "* 438\n",
    "* 76"
   ]
  },
  {
   "cell_type": "markdown",
   "metadata": {
    "heading_collapsed": true
   },
   "source": [
    "###  283 Move Zeroes Easy"
   ]
  },
  {
   "cell_type": "markdown",
   "metadata": {
    "hidden": true
   },
   "source": [
    "Given an array nums, write a function to move all 0's to the end of it while maintaining the relative order of the non-zero elements.\n",
    "\n",
    "Example:\n",
    "```\n",
    "Input: [0,1,0,3,12]\n",
    "Output: [1,3,12,0,0]\n",
    "Note:\n",
    "```\n",
    "You must do this in-place without making a copy of the array.\n",
    "Minimize the total number of operations."
   ]
  },
  {
   "cell_type": "code",
   "execution_count": 15,
   "metadata": {
    "hidden": true
   },
   "outputs": [],
   "source": [
    "'''\n",
    "设立两个指针k=0和i=0，其中[0,k)的区间内全是非零元素，\n",
    "移动i,当遇到非零元素时，交换k和i的值，同时k+1。\n",
    "时间：O（n）\n",
    "空间：O（1）\n",
    "'''\n",
    "\n",
    "\n",
    "def moveZeroes(nums):\n",
    "    \"\"\"\n",
    "    :type nums: List[int]\n",
    "    :rtype: void Do not return anything, modify nums in-place instead.\n",
    "    \"\"\"\n",
    "    k = 0\n",
    "    for i in range(len(nums)):\n",
    "        if nums[i] != 0:\n",
    "            if i != k:\n",
    "                nums[i], nums[k] = nums[k], nums[i]\n",
    "                k+=1\n",
    "            else:\n",
    "                k+=1\n",
    "            print(k)\n",
    "#     for j in range(k,len(nums)):\n",
    "#         nums[j] = 0\n",
    "            \n",
    "                 "
   ]
  },
  {
   "cell_type": "code",
   "execution_count": 16,
   "metadata": {
    "hidden": true
   },
   "outputs": [
    {
     "name": "stdout",
     "output_type": "stream",
     "text": [
      "1\n",
      "2\n",
      "3\n"
     ]
    },
    {
     "data": {
      "text/plain": [
       "[1, 3, 2, 0, 0]"
      ]
     },
     "execution_count": 16,
     "metadata": {},
     "output_type": "execute_result"
    }
   ],
   "source": [
    "nums = [1,3,0,2,0]\n",
    "moveZeroes(nums)\n",
    "nums"
   ]
  },
  {
   "cell_type": "markdown",
   "metadata": {
    "heading_collapsed": true
   },
   "source": [
    "### 27 Remove Element easy"
   ]
  },
  {
   "cell_type": "markdown",
   "metadata": {
    "hidden": true
   },
   "source": [
    "Given an array nums and a value val, remove all instances of that value in-place and return the new length.\n",
    "\n",
    "Do not allocate extra space for another array, you must do this by modifying the input array in-place with O(1) extra memory.\n",
    "\n",
    "The order of elements can be changed. It doesn't matter what you leave beyond the new length.\n",
    "\n",
    "Example 1:\n",
    "```\n",
    "Given nums = [3,2,2,3], val = 3,\n",
    "\n",
    "Your function should return length = 2, with the first two elements of nums being 2.\n",
    "\n",
    "It doesn't matter what you leave beyond the returned length.\n",
    "````\n",
    "Example 2:\n",
    "```\n",
    "Given nums = [0,1,2,2,3,0,4,2], val = 2,\n",
    "\n",
    "Your function should return length = 5, with the first five elements of nums containing 0, 1, 3, 0, and 4.\n",
    "\n",
    "Note that the order of those five elements can be arbitrary.\n",
    "\n",
    "It doesn't matter what values are set beyond the returned length.\n",
    "```\n",
    "Clarification:\n",
    "\n",
    "Confused why the returned value is an integer but your answer is an array?\n",
    "\n",
    "Note that the input array is passed in by reference, which means modification to the input array will be known to the caller as well.\n",
    "\n",
    "Internally you can think of this:\n",
    "```\n",
    "// nums is passed in by reference. (i.e., without making a copy)\n",
    "int len = removeElement(nums, val);\n",
    "\n",
    "// any modification to nums in your function would be known by the caller.\n",
    "// using the length returned by your function, it prints the first len elements.\n",
    "for (int i = 0; i < len; i++) {\n",
    "    print(nums[i]);\n",
    "}\n",
    "```"
   ]
  },
  {
   "cell_type": "code",
   "execution_count": 2,
   "metadata": {
    "hidden": true
   },
   "outputs": [],
   "source": [
    "'''\n",
    "指针对撞：首尾两个指针，当头指针等于val时，交换首尾指针位置的数值，尾指针减一  ->  此时不移动头指针，\n",
    "因为之前交换的尾指针的值即交换完的头指针的值可能是val，此时还需要检查头指针的值是否是val,如果此时是val，则继续与尾指针交换，\n",
    "如果不是，就将头指针加一。这样确保在头指针之前的值都是满足要求的数值。\n",
    "'''\n",
    "\n",
    "def removeElement(nums, val):\n",
    "    \"\"\"\n",
    "    :type nums: List[int]\n",
    "    :type val: int\n",
    "    :rtype: int\n",
    "    \"\"\"\n",
    "    start, end = 0, len(nums)-1\n",
    "    while start <= end:\n",
    "        if nums[start] == val:\n",
    "            nums[start], nums[end], end = nums[end], nums[start], end-1\n",
    "        else:\n",
    "            start+=1\n",
    "    return start"
   ]
  },
  {
   "cell_type": "code",
   "execution_count": 20,
   "metadata": {
    "hidden": true
   },
   "outputs": [],
   "source": [
    "def removeElement2(nums, val):\n",
    "    \"\"\"\n",
    "    :type nums: List[int]\n",
    "    :type val: int\n",
    "    :rtype: int\n",
    "    \"\"\"\n",
    "    i = 0\n",
    "    j = len(nums)-1\n",
    "    while i < j:\n",
    "        while nums[j] == val and j >=0:\n",
    "            j-=1\n",
    "            print('j=',j)\n",
    "        if nums[i] == val:\n",
    "            nums[i], nums[j] = nums[j], nums[i]\n",
    "        i+=1\n",
    "        print('i=',i)\n",
    "    return i"
   ]
  },
  {
   "cell_type": "code",
   "execution_count": 18,
   "metadata": {
    "collapsed": true,
    "hidden": true
   },
   "outputs": [
    {
     "name": "stdout",
     "output_type": "stream",
     "text": [
      "j= 6\n",
      "i= 1\n",
      "i= 2\n",
      "i= 3\n",
      "j= 5\n",
      "i= 4\n",
      "j= 4\n",
      "i= 5\n",
      "0\n",
      "1\n",
      "4\n",
      "0\n",
      "3\n"
     ]
    }
   ],
   "source": [
    "nums = [0,1,2,2,3,0,4,2]\n",
    "x = removeElement2(nums, 2)\n",
    "for i in range(x):\n",
    "    print(nums[i])"
   ]
  },
  {
   "cell_type": "markdown",
   "metadata": {
    "heading_collapsed": true
   },
   "source": [
    "### 26 Remove Duplicates from Sorted Array Easy\n"
   ]
  },
  {
   "cell_type": "markdown",
   "metadata": {
    "hidden": true
   },
   "source": [
    "Given a sorted array nums, remove the duplicates in-place such that each element appear only once and return the new length.\n",
    "\n",
    "Do not allocate extra space for another array, you must do this by modifying the input array in-place with O(1) extra memory.\n",
    "\n",
    "Example 1:\n",
    "```\n",
    "Given nums = [1,1,2],\n",
    "\n",
    "Your function should return length = 2, with the first two elements of nums being 1 and 2 respectively.\n",
    "\n",
    "It doesn't matter what you leave beyond the returned length.\n",
    "```\n",
    "Example 2:\n",
    "```\n",
    "Given nums = [0,0,1,1,1,2,2,3,3,4],\n",
    "\n",
    "Your function should return length = 5, with the first five elements of nums being modified to 0, 1, 2, 3, and 4 respectively.\n",
    "\n",
    "It doesn't matter what values are set beyond the returned length.\n",
    "```\n",
    "Clarification:\n",
    "\n",
    "Confused why the returned value is an integer but your answer is an array?\n",
    "\n",
    "Note that the input array is passed in by reference, which means modification to the input array will be known to the caller as well.\n",
    "\n",
    "Internally you can think of this:\n",
    "```\n",
    "// nums is passed in by reference. (i.e., without making a copy)\n",
    "int len = removeDuplicates(nums);\n",
    "\n",
    "// any modification to nums in your function would be known by the caller.\n",
    "// using the length returned by your function, it prints the first len elements.\n",
    "for (int i = 0; i < len; i++) {\n",
    "    print(nums[i]);\n",
    "}\n",
    "```"
   ]
  },
  {
   "cell_type": "code",
   "execution_count": 32,
   "metadata": {
    "hidden": true
   },
   "outputs": [],
   "source": [
    "'''\n",
    "思路：\n",
    "    当数组为空时，返回0\n",
    "    当数据不为空时，设立两个指针，i指针为当前不重复的元素的地址，j遍历整个数组，当j指向的元素不等于i位置的元素时，将\n",
    "    i下一个的元素的赋值为j指向的元素，同时i+1\n",
    "    所有不重复的元素个数为i+1\n",
    "\n",
    "'''\n",
    "\n",
    "def removeDuplicates(nums):\n",
    "    \"\"\"\n",
    "    :type nums: List[int]\n",
    "    :rtype: int\n",
    "    \"\"\"\n",
    "    if len(nums) ==0:\n",
    "        return 0\n",
    "    i,j = 0,1\n",
    "    while j<len(nums):\n",
    "        if nums[i]!=nums[j]:\n",
    "            nums[i+1] = nums[j]\n",
    "            i+=1\n",
    "            print('i=', i)\n",
    "        j+=1\n",
    "        print('j=', j)\n",
    "    return i+1\n",
    "        "
   ]
  },
  {
   "cell_type": "code",
   "execution_count": 33,
   "metadata": {
    "hidden": true
   },
   "outputs": [
    {
     "name": "stdout",
     "output_type": "stream",
     "text": [
      "j= 2\n",
      "i= 1\n",
      "j= 3\n",
      "j= 4\n",
      "j= 5\n",
      "i= 2\n",
      "j= 6\n",
      "j= 7\n",
      "i= 3\n",
      "j= 8\n",
      "j= 9\n",
      "i= 4\n",
      "j= 10\n",
      "0\n",
      "1\n",
      "2\n",
      "3\n",
      "4\n"
     ]
    }
   ],
   "source": [
    "nums = [0,0,1,1,1,2,2,3,3,4]\n",
    "x = removeDuplicates(nums)\n",
    "for i in range(x):\n",
    "    print(i)"
   ]
  },
  {
   "cell_type": "markdown",
   "metadata": {
    "heading_collapsed": true
   },
   "source": [
    "### 80 Remove Duplicates from Sorted Array II （median）"
   ]
  },
  {
   "cell_type": "markdown",
   "metadata": {
    "hidden": true
   },
   "source": [
    "Given a sorted array nums, remove the duplicates in-place such that duplicates appeared at most twice and return the new length.\n",
    "\n",
    "Do not allocate extra space for another array, you must do this by modifying the input array in-place with O(1) extra memory.\n",
    "\n",
    "Example 1:\n",
    "```\n",
    "Given nums = [1,1,1,2,2,3],\n",
    "\n",
    "Your function should return length = 5, with the first five elements of nums being 1, 1, 2, 2 and 3 respectively.\n",
    "\n",
    "It doesn't matter what you leave beyond the returned length.\n",
    "```\n",
    "Example 2:\n",
    "```\n",
    "Given nums = [0,0,1,1,1,1,2,3,3],\n",
    "\n",
    "Your function should return length = 7, with the first seven elements of nums being modified to 0, 0, 1, 1, 2, 3 and 3 respectively.\n",
    "\n",
    "It doesn't matter what values are set beyond the returned length.\n",
    "```\n",
    "Clarification:\n",
    "\n",
    "Confused why the returned value is an integer but your answer is an array?\n",
    "\n",
    "Note that the input array is passed in by reference, which means modification to the input array will be known to the caller as well.\n",
    "\n",
    "Internally you can think of this:\n",
    "```\n",
    "// nums is passed in by reference. (i.e., without making a copy)\n",
    "int len = removeDuplicates(nums);\n",
    "\n",
    "// any modification to nums in your function would be known by the caller.\n",
    "// using the length returned by your function, it prints the first len elements.\n",
    "for (int i = 0; i < len; i++) {\n",
    "    print(nums[i]);\n",
    "}\n",
    "```"
   ]
  },
  {
   "cell_type": "code",
   "execution_count": 12,
   "metadata": {
    "hidden": true
   },
   "outputs": [],
   "source": [
    "'''\n",
    "思路：\n",
    "1.若数组的长度小于2则直接数组长度\n",
    "2.长度大于2，设置2个指针，1个计数器。index指针前的一个元素为符合要求的元素，j指针遍历整个数组。index=1, j=1\n",
    "3.若num[j]不等于前一个元素，则为新元素，将其放到index位置处，同时，Index+1, 计数器归一\n",
    "4.若num[j]等于前一个元素，则为重复出现的元素，分为两种情况来讨论\n",
    "    a.若计数器小于2，表明此时的重复次数符合要求，这是将重复的元素放到index处，同时index+1， 计数器+1\n",
    "    b.若计数器大于2，表明此时的重复次数不符合要求，index不变，理论上计数器应该+1，不过计数器只要大于2就可以，因此加不加无所谓\n",
    "\n",
    "'''\n",
    "\n",
    "def removeDuplicates(nums):\n",
    "    \"\"\"\n",
    "    :type nums: List[int]\n",
    "    :rtype: int\n",
    "    \"\"\"\n",
    "    n = len(nums)\n",
    "    if n < 2:\n",
    "        return n\n",
    "    index = 1\n",
    "    cnt = 1\n",
    "    for j in range(1,n):\n",
    "        if nums[j] != nums[j-1]:\n",
    "            nums[index] = nums[j]\n",
    "            index += 1\n",
    "            cnt = 1\n",
    "            #print('j=' ,j , 'index=', index, nums)\n",
    "        else:\n",
    "            if cnt < 2:\n",
    "                nums[index] = nums[j] ## 将重复的元素也复制过来\n",
    "                index+=1\n",
    "                cnt+=1\n",
    "               # print('j=' ,j , 'index=', index, nums)\n",
    "    return index\n",
    "        \n",
    "    "
   ]
  },
  {
   "cell_type": "code",
   "execution_count": 13,
   "metadata": {
    "hidden": true
   },
   "outputs": [
    {
     "name": "stdout",
     "output_type": "stream",
     "text": [
      "j= 1 index= 2 [0, 0, 1, 1, 1, 1, 2, 3, 3]\n",
      "j= 2 index= 3 [0, 0, 1, 1, 1, 1, 2, 3, 3]\n",
      "j= 3 index= 4 [0, 0, 1, 1, 1, 1, 2, 3, 3]\n",
      "j= 6 index= 5 [0, 0, 1, 1, 2, 1, 2, 3, 3]\n",
      "j= 7 index= 6 [0, 0, 1, 1, 2, 3, 2, 3, 3]\n",
      "j= 8 index= 7 [0, 0, 1, 1, 2, 3, 3, 3, 3]\n",
      "0\n",
      "0\n",
      "1\n",
      "1\n",
      "2\n",
      "3\n",
      "3\n"
     ]
    }
   ],
   "source": [
    "nums = [0,0,1,1,1,1,2,3,3]\n",
    "x = removeDuplicates(nums)\n",
    "for i in range(x):\n",
    "    print(nums[i])"
   ]
  },
  {
   "cell_type": "markdown",
   "metadata": {
    "heading_collapsed": true
   },
   "source": [
    "### 75 Sort Colors (median)"
   ]
  },
  {
   "cell_type": "markdown",
   "metadata": {
    "hidden": true
   },
   "source": [
    "Given an array with n objects colored red, white or blue, sort them in-place so that objects of the same color are adjacent, with the colors in the order red, white and blue.\n",
    "\n",
    "Here, we will use the integers 0, 1, and 2 to represent the color red, white, and blue respectively.\n",
    "\n",
    "Note: You are not suppose to use the library's sort function for this problem.\n",
    "\n",
    "Example:\n",
    "```\n",
    "Input: [2,0,2,1,1,0]\n",
    "Output: [0,0,1,1,2,2]\n",
    "```\n",
    "Follow up:\n",
    "\n",
    "* A rather straight forward solution is a two-pass algorithm using counting sort.\n",
    "First, iterate the array counting number of 0's, 1's, and 2's, then overwrite array with total number of 0's, then 1's and followed by 2's.\n",
    "* Could you come up with a one-pass algorithm using only constant space?"
   ]
  },
  {
   "cell_type": "code",
   "execution_count": 11,
   "metadata": {
    "hidden": true
   },
   "outputs": [],
   "source": [
    "def sortColors(nums):\n",
    "    \"\"\"\n",
    "    :type nums: List[int]\n",
    "    :rtype: void Do not return anything, modify nums in-place instead.\n",
    "    \"\"\"\n",
    "    '''\n",
    "    思路：三路比较\n",
    "    Zero:nums[0,Zero] = 0 存放所有的零元素\n",
    "    Two:nums[Two, len-1] = 2 存放所有的二元素\n",
    "    ->从头开始到Two下标，遍历数组\n",
    "        当元素为0，Zero+1（此时元素应该为1）, 此后与i交换，i+1\n",
    "        当元素为1，i+1\n",
    "        当元素为2，Two-1（此时元素未知）, 此后与i交换，由于当前的i元素不知道是什么，所以不能+1\n",
    "    '''\n",
    "    Zero = -1\n",
    "    Two = len(nums)\n",
    "    i = 0\n",
    "    while i < Two:\n",
    "        if nums[i] == 0:\n",
    "            Zero+=1\n",
    "            nums[i], nums[Zero] = nums[Zero], nums[i]\n",
    "            #print('i=%d, Zero=%d' % (i, Zero))\n",
    "            i+=1\n",
    "        elif nums[i] == 2:\n",
    "            Two-=1\n",
    "            nums[i], nums[Two] = nums[Two], nums[i]\n",
    "            #print('i=%d, Two=%d' % (i, Two))\n",
    "            #print(nums)\n",
    "        elif nums[i] == 1:\n",
    "            i+=1\n",
    "        else:\n",
    "            raise ValueError\n",
    "            \n",
    "            \n",
    "    "
   ]
  },
  {
   "cell_type": "code",
   "execution_count": 16,
   "metadata": {
    "hidden": true
   },
   "outputs": [
    {
     "data": {
      "text/plain": [
       "[]"
      ]
     },
     "execution_count": 16,
     "metadata": {},
     "output_type": "execute_result"
    }
   ],
   "source": [
    "nums = []\n",
    "sortColors(nums)\n",
    "nums"
   ]
  },
  {
   "cell_type": "markdown",
   "metadata": {
    "heading_collapsed": true
   },
   "source": [
    "### 3 Longest Substring Without Repeating Characters (median) 未解"
   ]
  },
  {
   "cell_type": "markdown",
   "metadata": {
    "hidden": true
   },
   "source": [
    "Given a string, find the length of the longest substring without repeating characters.\n",
    "\n",
    "Example 1:\n",
    "```\n",
    "Input: \"abcabcbb\"\n",
    "Output: 3 \n",
    "Explanation: The answer is \"abc\", with the length of 3. \n",
    "```\n",
    "Example 2:\n",
    "```\n",
    "Input: \"bbbbb\"\n",
    "Output: 1\n",
    "Explanation: The answer is \"b\", with the length of 1.\n",
    "```\n",
    "Example 3:\n",
    "```\n",
    "Input: \"pwwkew\"\n",
    "Output: 3\n",
    "Explanation: The answer is \"wke\", with the length of 3. \n",
    "             Note that the answer must be a substring, \"pwke\" is a subsequence and not a substring.\n",
    "```"
   ]
  },
  {
   "cell_type": "code",
   "execution_count": null,
   "metadata": {
    "hidden": true
   },
   "outputs": [],
   "source": []
  },
  {
   "cell_type": "markdown",
   "metadata": {
    "heading_collapsed": true
   },
   "source": [
    "### 167 Two Sum II - Input array is sorted (easy)"
   ]
  },
  {
   "cell_type": "markdown",
   "metadata": {
    "hidden": true
   },
   "source": [
    "Given an array of integers that is already sorted in ascending order, find two numbers such that they add up to a specific target number.\n",
    "\n",
    "The function twoSum should return indices of the two numbers such that they add up to the target, where index1 must be less than index2.\n",
    "\n",
    "Note:\n",
    "\n",
    "* Your returned answers (both index1 and index2) are not zero-based.\n",
    "* You may assume that each input would have exactly one solution and you may not use the same element twice.\n",
    "Example:\n",
    "```\n",
    "Input: numbers = [2,7,11,15], target = 9\n",
    "Output: [1,2]\n",
    "Explanation: The sum of 2 and 7 is 9. Therefore index1 = 1, index2 = 2.\n",
    "```"
   ]
  },
  {
   "cell_type": "code",
   "execution_count": 31,
   "metadata": {
    "hidden": true
   },
   "outputs": [],
   "source": [
    "def twosum(numbers, target):\n",
    "    \"\"\"\n",
    "    :type numbers: List[int]\n",
    "    :type target: int\n",
    "    :rtype: List[int]\n",
    "    思路：指针对撞\n",
    "    \"\"\"\n",
    "    i = 0\n",
    "    j = len(nums)-1\n",
    "    while i < j:\n",
    "        if nums[i]+nums[j] == target:\n",
    "            return [i+1, j+1]\n",
    "        elif nums[i]+nums[j] < target:\n",
    "            i+=1\n",
    "        elif nums[i]+nums[j] > target:\n",
    "            j-=1\n",
    "        else:\n",
    "            raise NameError('Error target')"
   ]
  },
  {
   "cell_type": "code",
   "execution_count": 36,
   "metadata": {
    "hidden": true
   },
   "outputs": [
    {
     "data": {
      "text/plain": [
       "[1, 3]"
      ]
     },
     "execution_count": 36,
     "metadata": {},
     "output_type": "execute_result"
    }
   ],
   "source": [
    "nums=[2,7,11,15]\n",
    "twosum(nums, 13)"
   ]
  },
  {
   "cell_type": "markdown",
   "metadata": {
    "heading_collapsed": true
   },
   "source": [
    "### 209 Minimum Size Subarray Sum （median）"
   ]
  },
  {
   "cell_type": "markdown",
   "metadata": {
    "hidden": true
   },
   "source": [
    "Given an array of n positive integers and a positive integer s, find the minimal length of a contiguous subarray of which the sum ≥ s. If there isn't one, return 0 instead.\n",
    "\n",
    "Example: \n",
    "```\n",
    "Input: s = 7, nums = [2,3,1,2,4,3]\n",
    "Output: 2\n",
    "Explanation: the subarray [4,3] has the minimal length under the problem constraint.\n",
    "```\n",
    "Follow up:\n",
    "If you have figured out the O(n) solution, try coding another solution of which the time complexity is O(n log n). "
   ]
  },
  {
   "cell_type": "code",
   "execution_count": 31,
   "metadata": {
    "hidden": true
   },
   "outputs": [],
   "source": [
    "def minsubarraylen(s, nums):\n",
    "    l,r = 0,0  # [l,r)初始时窗口中没有元素\n",
    "    asum = 0 # 初始总和为0\n",
    "    res = len(nums) + 1 # 初始的长度为元素个数+1,此种情况不存在，在后面可以根据此判断是否更行了数值而判断是否存在\n",
    "    # 当左边界没有到底时循环继续进行\n",
    "    while l<len(nums):\n",
    "        # 当窗口元素和小于S时，将r+1，并往asum+nums[r]，同时保证r+1没有出界\n",
    "        # 当asum大于S时，asum中减去nums[l],将l+1\n",
    "        # 判断当前状态下asum与s的关系，如果asum>=s，跟新res的值\n",
    "        if (r < len(nums)) and (asum < s):\n",
    "            asum += nums[r]\n",
    "            r+=1\n",
    "            #print('r=%d' % r)\n",
    "        else: \n",
    "            asum -= nums[l]\n",
    "            l+=1\n",
    "            #print('l=%d' % l)\n",
    "        if asum >=s: \n",
    "            res = min(r-l, res)\n",
    "            #print('r=%d, l=%d' % (r,l))\n",
    "    # 如果res的值没有更新，说明没有符合要求的组合，返回0，否则返回res        \n",
    "    if res == len(nums) + 1:\n",
    "        return 0\n",
    "    \n",
    "    return res"
   ]
  },
  {
   "cell_type": "code",
   "execution_count": 32,
   "metadata": {
    "hidden": true
   },
   "outputs": [
    {
     "name": "stdout",
     "output_type": "stream",
     "text": [
      "r=5, l=0\n",
      "r=5, l=1\n",
      "r=5, l=2\n",
      "r=5, l=3\n",
      "r=6, l=4\n",
      "r=8, l=5\n",
      "r=9, l=6\n",
      "r=10, l=7\n"
     ]
    },
    {
     "data": {
      "text/plain": [
       "2"
      ]
     },
     "execution_count": 32,
     "metadata": {},
     "output_type": "execute_result"
    }
   ],
   "source": [
    "nums = [5,1,3,5,10,7,4,9,2,8]\n",
    "minsubarraylen(15, nums)"
   ]
  },
  {
   "cell_type": "markdown",
   "metadata": {
    "heading_collapsed": true
   },
   "source": [
    "### 3.Longest Substring Without Repeating Characters (median)"
   ]
  },
  {
   "cell_type": "markdown",
   "metadata": {
    "hidden": true
   },
   "source": [
    "Given a string, find the length of the longest substring without repeating characters.\n",
    "\n",
    "Example 1:\n",
    "```\n",
    "Input: \"abcabcbb\"\n",
    "Output: 3 \n",
    "Explanation: The answer is \"abc\", with the length of 3. \n",
    "```\n",
    "Example 2:\n",
    "```\n",
    "Input: \"bbbbb\"\n",
    "Output: 1\n",
    "Explanation: The answer is \"b\", with the length of 1.\n",
    "```\n",
    "Example 3:\n",
    "```\n",
    "Input: \"pwwkew\"\n",
    "Output: 3\n",
    "Explanation: The answer is \"wke\", with the length of 3. \n",
    "             Note that the answer must be a substring, \"pwke\" is a subsequence and not a substring.\n",
    "```"
   ]
  },
  {
   "cell_type": "code",
   "execution_count": 60,
   "metadata": {
    "hidden": true
   },
   "outputs": [],
   "source": [
    "def lengthOfLongestSubstring(s):\n",
    "    \"\"\"\n",
    "    :type s: str\n",
    "    :rtype: int\n",
    "    \"\"\"\n",
    "    # 初始化窗口[l,r)，右边的元素不包含，最大长度初始化为0，构建字符串字典\n",
    "    # 当左边界没有到最大值时循环继续\n",
    "    # 利用字典的setdefault（s,0）功能来统计字符串出现的次数\n",
    "    # 观察窗口右边界上的元素（考虑是否越界），如果字典中其出现的次数为0，则表明可以扩大右边界，同时将次元素的字典个数+1\n",
    "    # 如果右边界的元素次数不为0，则应该缩小左边界，以使得其次数减少为0，此时，将左边界的元素统计个数-1，左边界向右移动一格\n",
    "    # 执行完每一步，计算此时的窗口中元素的个数，与之前的个数比较，取最大值\n",
    "    l,r = 0,0\n",
    "    res = 0\n",
    "    fre = {}\n",
    "    while l < len(s):\n",
    "        # ord(str) 将字符转成整数\n",
    "        if (r < len(s)) and (fre.setdefault(s[r],0)) == 0:\n",
    "            fre[s[r]] += 1\n",
    "            r+=1\n",
    "        else:\n",
    "            fre[s[l]] -= 1\n",
    "            l+=1\n",
    "        \n",
    "        res = max(r-l, res)\n",
    "        print('r=%d, l=%d' % (r,l))\n",
    "    \n",
    "    return res\n"
   ]
  },
  {
   "cell_type": "code",
   "execution_count": 61,
   "metadata": {
    "hidden": true
   },
   "outputs": [
    {
     "name": "stdout",
     "output_type": "stream",
     "text": [
      "r=1, l=0\n",
      "r=2, l=0\n",
      "r=3, l=0\n",
      "r=3, l=1\n",
      "r=4, l=1\n",
      "r=4, l=2\n",
      "r=5, l=2\n",
      "r=5, l=3\n",
      "r=6, l=3\n",
      "r=6, l=4\n",
      "r=6, l=5\n",
      "r=7, l=5\n",
      "r=7, l=6\n",
      "r=7, l=7\n",
      "r=8, l=7\n",
      "r=8, l=8\n"
     ]
    },
    {
     "data": {
      "text/plain": [
       "3"
      ]
     },
     "execution_count": 61,
     "metadata": {},
     "output_type": "execute_result"
    }
   ],
   "source": [
    "s = 'abcabcbb'\n",
    "lengthOfLongestSubstring(s)"
   ]
  },
  {
   "cell_type": "code",
   "execution_count": 44,
   "metadata": {
    "hidden": true
   },
   "outputs": [
    {
     "data": {
      "text/plain": [
       "{'a': 0, 'b': 0}"
      ]
     },
     "execution_count": 44,
     "metadata": {},
     "output_type": "execute_result"
    }
   ],
   "source": [
    "fre = {'a':0}\n",
    "fre.setdefault('b', 0)"
   ]
  },
  {
   "cell_type": "markdown",
   "metadata": {},
   "source": [
    "## 查找相关的问题\n",
    "* 349\n",
    "* 350\n",
    "* 242\n",
    "* 202\n",
    "* 290\n",
    "* 205\n",
    "* 451\n",
    "* 1\n",
    "* 15\n",
    "* 18\n",
    "* 16\n",
    "* 454\n",
    "* 49\n",
    "* 447\n",
    "* 149\n",
    "* 219\n",
    "* 217\n",
    "* 220\n",
    "* 219"
   ]
  },
  {
   "cell_type": "markdown",
   "metadata": {
    "heading_collapsed": true
   },
   "source": [
    "### 349 Intersection of Two Arrays （esay）"
   ]
  },
  {
   "cell_type": "markdown",
   "metadata": {
    "hidden": true
   },
   "source": [
    "Given two arrays, write a function to compute their intersection.\n",
    "\n",
    "Example 1:\n",
    "```\n",
    "Input: nums1 = [1,2,2,1], nums2 = [2,2]\n",
    "Output: [2]\n",
    "```\n",
    "Example 2:\n",
    "```\n",
    "Input: nums1 = [4,9,5], nums2 = [9,4,9,8,4]\n",
    "Output: [9,4]\n",
    "```\n",
    "Note:\n",
    "\n",
    "* Each element in the result must be unique.\n",
    "* The result can be in any order."
   ]
  },
  {
   "cell_type": "code",
   "execution_count": 1,
   "metadata": {
    "hidden": true
   },
   "outputs": [],
   "source": [
    "def intersection(nums1, nums2):\n",
    "    set1 = set(nums1)\n",
    "    set2 = set(nums2)\n",
    "    return list( set1 & set2 )"
   ]
  },
  {
   "cell_type": "code",
   "execution_count": 3,
   "metadata": {
    "hidden": true
   },
   "outputs": [
    {
     "data": {
      "text/plain": [
       "[9, 4]"
      ]
     },
     "execution_count": 3,
     "metadata": {},
     "output_type": "execute_result"
    }
   ],
   "source": [
    "nums1 = [4,5,9]\n",
    "nums2 = [9,4,9,8,4]\n",
    "intersection(nums1, nums2)"
   ]
  },
  {
   "cell_type": "markdown",
   "metadata": {
    "heading_collapsed": true
   },
   "source": [
    "### 350 Intersection of Two Arrays II (esay)"
   ]
  },
  {
   "cell_type": "markdown",
   "metadata": {
    "hidden": true
   },
   "source": [
    "Given two arrays, write a function to compute their intersection.\n",
    "\n",
    "Example 1:\n",
    "```\n",
    "Input: nums1 = [1,2,2,1], nums2 = [2,2]\n",
    "Output: [2,2]\n",
    "```\n",
    "Example 2:\n",
    "```\n",
    "Input: nums1 = [4,9,5], nums2 = [9,4,9,8,4]\n",
    "Output: [4,9]\n",
    "```\n",
    "Note:\n",
    "\n",
    "* Each element in the result should appear as many times as it shows in both arrays.\n",
    "* The result can be in any order.\n",
    "\n",
    "Follow up:\n",
    "\n",
    "* What if the given array is already sorted? How would you optimize your algorithm?\n",
    "* What if nums1's size is small compared to nums2's size? Which algorithm is better?\n",
    "* What if elements of nums2 are stored on disk, and the memory is limited such that you cannot load all elements into the memory at once?"
   ]
  },
  {
   "cell_type": "code",
   "execution_count": 30,
   "metadata": {
    "hidden": true
   },
   "outputs": [],
   "source": [
    "def intersect(nums1, nums2):\n",
    "    '''\n",
    "    1. nums1中的元素利用字典1进行计数统计\n",
    "    2. 遍历nums2的元素，如果此元素存在与字典中且频数不为0，则将次元素放入结果中（即为共同拥有的元素）\n",
    "    3. 将字典1中对应的key的values-1，表示这个值已经被使用了\n",
    "    4. 输出结果\n",
    "    '''\n",
    "    dict1 = {}\n",
    "    result = []\n",
    "    for i in nums1:\n",
    "        dict1.setdefault(i, 0)\n",
    "        dict1[i]+=1\n",
    "    \n",
    "    for i in nums2:\n",
    "        if dict1.get(i):\n",
    "            dict1[i]-=1\n",
    "            result.append(i)\n",
    "            \n",
    "    return result"
   ]
  },
  {
   "cell_type": "code",
   "execution_count": 31,
   "metadata": {
    "hidden": true
   },
   "outputs": [
    {
     "data": {
      "text/plain": [
       "[2, 2]"
      ]
     },
     "execution_count": 31,
     "metadata": {},
     "output_type": "execute_result"
    }
   ],
   "source": [
    "nums1 = [1,2,2,1]\n",
    "nums2 = [2,2]\n",
    "intersect(nums1, nums2)"
   ]
  },
  {
   "cell_type": "code",
   "execution_count": 19,
   "metadata": {
    "hidden": true
   },
   "outputs": [
    {
     "data": {
      "text/plain": [
       "{1: 2, 2: 2, 3: 1, 0: 1}"
      ]
     },
     "execution_count": 19,
     "metadata": {},
     "output_type": "execute_result"
    }
   ],
   "source": [
    "dict1 = {}\n",
    "for i in [1,1,2,2,3,0]:\n",
    "    dict1.setdefault(i, 0)\n",
    "    dict1[i]+=1\n",
    "\n",
    "dict1"
   ]
  },
  {
   "cell_type": "code",
   "execution_count": 17,
   "metadata": {
    "hidden": true
   },
   "outputs": [
    {
     "data": {
      "text/plain": [
       "0"
      ]
     },
     "execution_count": 17,
     "metadata": {},
     "output_type": "execute_result"
    }
   ],
   "source": [
    "dict1.setdefault(1)"
   ]
  },
  {
   "cell_type": "markdown",
   "metadata": {},
   "source": [
    "### 242"
   ]
  },
  {
   "cell_type": "markdown",
   "metadata": {
    "heading_collapsed": true
   },
   "source": [
    "### 1 Two sum （esay）"
   ]
  },
  {
   "cell_type": "markdown",
   "metadata": {
    "hidden": true
   },
   "source": [
    "Given an array of integers, return indices of the two numbers such that they add up to a specific target.\n",
    "\n",
    "You may assume that each input would have exactly one solution, and you may not use the same element twice.\n",
    "\n",
    "Example:\n",
    "```\n",
    "Given nums = [2, 7, 11, 15], target = 9,\n",
    "\n",
    "Because nums[0] + nums[1] = 2 + 7 = 9,\n",
    "return [0, 1].\n",
    "```"
   ]
  },
  {
   "cell_type": "code",
   "execution_count": 23,
   "metadata": {
    "hidden": true
   },
   "outputs": [],
   "source": [
    "def twosum(nums, target):\n",
    "    '''\n",
    "    1.构建查找表，在查找表中查找等于target-当前元素的元素\n",
    "    2.为了保证重复的元素不被覆盖，只将当前元素之前的元素放入查找表\n",
    "    3.当没有没找到需要查找的元素时，将当前元素纳入查找表，同时指针右移，开始下一轮查找\n",
    "    时间：O(n)\n",
    "    空间：O(n)\n",
    "    '''\n",
    "    find_dict = {}\n",
    "    for index,number in enumerate(nums):\n",
    "        add_num = target - number\n",
    "        if add_num in find_dict:\n",
    "            return [find_dict[add_num], index]\n",
    "        else:\n",
    "            find_dict[number] = index\n",
    "            #print(find_dict)\n",
    "    raise Exception('the input has no solution')"
   ]
  },
  {
   "cell_type": "code",
   "execution_count": 24,
   "metadata": {
    "hidden": true
   },
   "outputs": [
    {
     "data": {
      "text/plain": [
       "[0, 1]"
      ]
     },
     "execution_count": 24,
     "metadata": {},
     "output_type": "execute_result"
    }
   ],
   "source": [
    "nums = [2, 2, 2, 2]\n",
    "twosum(nums, 4)"
   ]
  },
  {
   "cell_type": "markdown",
   "metadata": {},
   "source": [
    "### 16 3Sum Closest"
   ]
  },
  {
   "cell_type": "markdown",
   "metadata": {},
   "source": [
    "### 454 4Sum II"
   ]
  },
  {
   "cell_type": "markdown",
   "metadata": {},
   "source": [
    "Given four lists A, B, C, D of integer values, compute how many tuples (i, j, k, l) there are such that A[i] + B[j] + C[k] + D[l] is zero.\n",
    "\n",
    "To make problem a bit easier, all A, B, C, D have same length of N where 0 ≤ N ≤ 500. All integers are in the range of -2<sup>28</sup> to 2<sup>28</sup> - 1 and the result is guaranteed to be at most 2<sup>31</sup> - 1.\n",
    "\n",
    "Example:\n",
    "```\n",
    "Input:\n",
    "A = [ 1, 2]\n",
    "B = [-2,-1]\n",
    "C = [-1, 2]\n",
    "D = [ 0, 2]\n",
    "\n",
    "Output:\n",
    "2\n",
    "\n",
    "Explanation:\n",
    "The two tuples are:\n",
    "1. (0, 0, 0, 1) -> A[0] + B[0] + C[0] + D[1] = 1 + (-2) + (-1) + 2 = 0\n",
    "2. (1, 1, 0, 0) -> A[1] + B[1] + C[0] + D[0] = 2 + (-1) + (-1) + 0 = 0\n",
    "```"
   ]
  },
  {
   "cell_type": "code",
   "execution_count": 5,
   "metadata": {},
   "outputs": [],
   "source": [
    "def fourSumCount(a,b,c,d):\n",
    "    '''\n",
    "    时间： O(n2)\n",
    "    空间： O(n2)\n",
    "    查找表：\n",
    "    1.两重循环用a,b中元素的和构建查找表，同时记录相同和的次数\n",
    "    2.两重循环查找符合要求的c,d的元素的组合，同时记录结果\n",
    "    '''\n",
    "    find_dict = {}\n",
    "    result = 0\n",
    "    # 构建查找表\n",
    "    for i in a:\n",
    "        for j in b:\n",
    "            if (i+j) in find_dict:\n",
    "                find_dict[(i+j)] += 1\n",
    "            else:\n",
    "                find_dict[(i+j)] = 1\n",
    "    \n",
    "    # 查找符合要求的组合\n",
    "    for i in c:\n",
    "        for j in d:\n",
    "            if (-i-j) in find_dict:\n",
    "                result += find_dict[(-i-j)]\n",
    "    \n",
    "    return result"
   ]
  },
  {
   "cell_type": "code",
   "execution_count": 6,
   "metadata": {},
   "outputs": [
    {
     "data": {
      "text/plain": [
       "2"
      ]
     },
     "execution_count": 6,
     "metadata": {},
     "output_type": "execute_result"
    }
   ],
   "source": [
    "A = [ 1, 2]\n",
    "B = [-2,-1]\n",
    "C = [-1, 2]\n",
    "D = [ 0, 2]\n",
    "fourSumCount(A,B,C,D)"
   ]
  },
  {
   "cell_type": "markdown",
   "metadata": {},
   "source": [
    "### 447.Number of Boomerangs (easy)"
   ]
  },
  {
   "cell_type": "markdown",
   "metadata": {},
   "source": [
    "Given n points in the plane that are all pairwise distinct, a \"boomerang\" is a tuple of points (i, j, k) such that the distance between i and j equals the distance between i and k (the order of the tuple matters).\n",
    "\n",
    "Find the number of boomerangs. You may assume that n will be at most 500 and coordinates of points are all in the range [-10000, 10000] (inclusive).\n",
    "\n",
    "Example:\n",
    "```\n",
    "Input:\n",
    "[[0,0],[1,0],[2,0]]\n",
    "\n",
    "Output:\n",
    "2\n",
    "\n",
    "Explanation:\n",
    "The two boomerangs are [[1,0],[0,0],[2,0]] and [[1,0],[2,0],[0,0]]\n",
    "```\n",
    "给出一个平面上的n个点，寻找存在多少个由这些点构成的三元组（i,j,k），使得i,j两点的距离等于i,k两点的距离，其中n最多为500，[-10000,10000]"
   ]
  },
  {
   "cell_type": "code",
   "execution_count": 9,
   "metadata": {},
   "outputs": [],
   "source": [
    "import math\n",
    "def dist(alist, blist):\n",
    "    # 距离的平方，防止开方带来的浮点误差\n",
    "    return (alist[0] - blist[0])**2 + (alist[1] - blist[1])**2\n",
    "    \n",
    "\n",
    "def numberOfBoomerangs(points):\n",
    "    '''\n",
    "    1.对于每个点，构建其他点与之的距离查找表{距离：相同距离点的个数}\n",
    "    2.对于每个点，观察查找表中每个距离的个数，如果存在‘相同距离点的个数大于2’，则存在这样的三元组，其个数为个数*（个数-1）\n",
    "    '''\n",
    "    result = 0\n",
    "    # 构建查找表\n",
    "    for i in points:\n",
    "        find_dist = {}\n",
    "        for j in points:\n",
    "            if i != j:\n",
    "                dist_i_j = dist(i,j)\n",
    "                if dist_i_j in find_dist:\n",
    "                    find_dist[dist_i_j] +=1\n",
    "                else:\n",
    "                    find_dist[dist_i_j] = 1\n",
    "        # 观察查找表\n",
    "        for values in find_dist.values():\n",
    "            if values >=2:\n",
    "                result += values * (values-1)\n",
    "    \n",
    "    return result"
   ]
  },
  {
   "cell_type": "code",
   "execution_count": 10,
   "metadata": {},
   "outputs": [
    {
     "data": {
      "text/plain": [
       "2"
      ]
     },
     "execution_count": 10,
     "metadata": {},
     "output_type": "execute_result"
    }
   ],
   "source": [
    "points = [[0,0],[1,0],[2,0]]\n",
    "numberOfBoomerangs(points)"
   ]
  },
  {
   "cell_type": "markdown",
   "metadata": {},
   "source": [
    "### 219. Contains Duplicate II"
   ]
  },
  {
   "cell_type": "markdown",
   "metadata": {},
   "source": [
    "Given an array of integers and an integer k, find out whether there are two distinct indices i and j in the array such that nums[i] = nums[j] and the absolute difference between i and j is at most k.\n",
    "```\n",
    "Example 1:\n",
    "Input: nums = [1,2,3,1], k = 3\n",
    "Output: true\n",
    "\n",
    "Example 2:\n",
    "Input: nums = [1,0,1,1], k = 1\n",
    "Output: true\n",
    "\n",
    "Example 3:\n",
    "Input: nums = [1,2,3,1,2,3], k = 2\n",
    "Output: false\n",
    "```\n",
    "给出一个整形数组nums和一个整数k，是否存在索引i和j，使得nums[i] == nums[j] 且i和j之间的差不超过k"
   ]
  },
  {
   "cell_type": "code",
   "execution_count": 37,
   "metadata": {},
   "outputs": [],
   "source": [
    "def containsNearbyDuplicate(nums, k):\n",
    "    '''\n",
    "    滑动窗口+查找表set\n",
    "    1.遍历整个数组，比较当前元素与查找表中的元素，如果当前元素存在与查找表中，并且查找表的长度小于k，就返回True\n",
    "    2.如果当前元素不存在与查找表中，则将当前元素添加进查找表\n",
    "    3.如果查找表的长度等于k+1，则应该删除最旧的元素，即nums[i-k]\n",
    "    4.如果遍历完整个数组都没有找到这样的元素，则返回False\n",
    "    '''\n",
    "    find_set = set()\n",
    "    l, r = 0,0\n",
    "    for i in range(len(nums)):\n",
    "        if nums[i] in find_set and len(find_set)<=k:\n",
    "            return True\n",
    "        else:\n",
    "            find_set.add(nums[i])\n",
    "        if len(find_set) == k+1:\n",
    "            find_set.remove(nums[i-k])\n",
    "    \n",
    "    return False\n",
    "            "
   ]
  },
  {
   "cell_type": "code",
   "execution_count": 34,
   "metadata": {},
   "outputs": [
    {
     "name": "stdout",
     "output_type": "stream",
     "text": [
      "1\n"
     ]
    },
    {
     "ename": "KeyboardInterrupt",
     "evalue": "",
     "output_type": "error",
     "traceback": [
      "\u001b[1;31m---------------------------------------------------------------------------\u001b[0m",
      "\u001b[1;31mKeyboardInterrupt\u001b[0m                         Traceback (most recent call last)",
      "\u001b[1;32m<ipython-input-34-933721d89233>\u001b[0m in \u001b[0;36m<module>\u001b[1;34m\u001b[0m\n\u001b[0;32m      1\u001b[0m \u001b[0mnums\u001b[0m \u001b[1;33m=\u001b[0m \u001b[1;33m[\u001b[0m\u001b[1;36m1\u001b[0m\u001b[1;33m,\u001b[0m\u001b[1;36m0\u001b[0m\u001b[1;33m,\u001b[0m\u001b[1;36m1\u001b[0m\u001b[1;33m,\u001b[0m\u001b[1;36m1\u001b[0m\u001b[1;33m]\u001b[0m\u001b[1;33m\u001b[0m\u001b[1;33m\u001b[0m\u001b[0m\n\u001b[0;32m      2\u001b[0m \u001b[0mk\u001b[0m \u001b[1;33m=\u001b[0m \u001b[1;36m1\u001b[0m\u001b[1;33m\u001b[0m\u001b[1;33m\u001b[0m\u001b[0m\n\u001b[1;32m----> 3\u001b[1;33m \u001b[0mcontainsNearbyDuplicate\u001b[0m\u001b[1;33m(\u001b[0m\u001b[0mnums\u001b[0m\u001b[1;33m,\u001b[0m \u001b[0mk\u001b[0m\u001b[1;33m)\u001b[0m\u001b[1;33m\u001b[0m\u001b[1;33m\u001b[0m\u001b[0m\n\u001b[0m",
      "\u001b[1;32m<ipython-input-33-e080e4d4292f>\u001b[0m in \u001b[0;36mcontainsNearbyDuplicate\u001b[1;34m(nums, k)\u001b[0m\n\u001b[0;32m      6\u001b[0m     \u001b[0ml\u001b[0m\u001b[1;33m,\u001b[0m \u001b[0mr\u001b[0m \u001b[1;33m=\u001b[0m \u001b[1;36m0\u001b[0m\u001b[1;33m,\u001b[0m\u001b[1;36m0\u001b[0m\u001b[1;33m\u001b[0m\u001b[1;33m\u001b[0m\u001b[0m\n\u001b[0;32m      7\u001b[0m     \u001b[1;32mwhile\u001b[0m \u001b[0ml\u001b[0m\u001b[1;33m<\u001b[0m\u001b[0mlen\u001b[0m\u001b[1;33m(\u001b[0m\u001b[0mnums\u001b[0m\u001b[1;33m)\u001b[0m\u001b[1;33m:\u001b[0m\u001b[1;33m\u001b[0m\u001b[1;33m\u001b[0m\u001b[0m\n\u001b[1;32m----> 8\u001b[1;33m         \u001b[1;32mif\u001b[0m \u001b[0mr\u001b[0m\u001b[1;33m<\u001b[0m\u001b[0mlen\u001b[0m\u001b[1;33m(\u001b[0m\u001b[0mnums\u001b[0m\u001b[1;33m)\u001b[0m \u001b[1;32mand\u001b[0m \u001b[0mnums\u001b[0m\u001b[1;33m[\u001b[0m\u001b[0mr\u001b[0m\u001b[1;33m]\u001b[0m \u001b[1;32min\u001b[0m \u001b[0mfind_set\u001b[0m \u001b[1;32mand\u001b[0m \u001b[1;33m(\u001b[0m\u001b[0mr\u001b[0m\u001b[1;33m-\u001b[0m\u001b[0ml\u001b[0m\u001b[1;33m)\u001b[0m\u001b[1;33m<=\u001b[0m\u001b[0mk\u001b[0m\u001b[1;33m:\u001b[0m\u001b[1;33m\u001b[0m\u001b[1;33m\u001b[0m\u001b[0m\n\u001b[0m\u001b[0;32m      9\u001b[0m             \u001b[0mprint\u001b[0m\u001b[1;33m(\u001b[0m\u001b[0mfind_set\u001b[0m\u001b[1;33m)\u001b[0m\u001b[1;33m\u001b[0m\u001b[1;33m\u001b[0m\u001b[0m\n\u001b[0;32m     10\u001b[0m             \u001b[1;32mreturn\u001b[0m \u001b[1;32mTrue\u001b[0m\u001b[1;33m\u001b[0m\u001b[1;33m\u001b[0m\u001b[0m\n",
      "\u001b[1;31mKeyboardInterrupt\u001b[0m: "
     ]
    }
   ],
   "source": [
    "nums = [1,0,1,1]\n",
    "k = 1\n",
    "containsNearbyDuplicate(nums, k)"
   ]
  },
  {
   "cell_type": "code",
   "execution_count": 36,
   "metadata": {},
   "outputs": [
    {
     "ename": "TypeError",
     "evalue": "object of type 'int' has no len()",
     "output_type": "error",
     "traceback": [
      "\u001b[1;31m---------------------------------------------------------------------------\u001b[0m",
      "\u001b[1;31mTypeError\u001b[0m                                 Traceback (most recent call last)",
      "\u001b[1;32m<ipython-input-36-8f3cc5821fa8>\u001b[0m in \u001b[0;36m<module>\u001b[1;34m\u001b[0m\n\u001b[1;32m----> 1\u001b[1;33m \u001b[1;32mfor\u001b[0m \u001b[0mi\u001b[0m \u001b[1;32min\u001b[0m \u001b[0mlen\u001b[0m\u001b[1;33m(\u001b[0m\u001b[1;36m2\u001b[0m\u001b[1;33m)\u001b[0m\u001b[1;33m:\u001b[0m\u001b[1;33m\u001b[0m\u001b[1;33m\u001b[0m\u001b[0m\n\u001b[0m\u001b[0;32m      2\u001b[0m     \u001b[0mprint\u001b[0m\u001b[1;33m(\u001b[0m\u001b[0mi\u001b[0m\u001b[1;33m)\u001b[0m\u001b[1;33m\u001b[0m\u001b[1;33m\u001b[0m\u001b[0m\n",
      "\u001b[1;31mTypeError\u001b[0m: object of type 'int' has no len()"
     ]
    }
   ],
   "source": []
  },
  {
   "cell_type": "markdown",
   "metadata": {},
   "source": [
    "## 链表\n",
    "* 206\n",
    "* 92\n",
    "* 83\n",
    "* 86\n",
    "* 328\n",
    "* 2\n",
    "* 455\n",
    "* 203\n",
    "* 82\n",
    "* 21\n",
    "* 24\n",
    "* 25\n",
    "* 147\n",
    "* 148\n",
    "* 237\n",
    "* 19\n",
    "* 61\n",
    "* 143\n",
    "* 234\n",
    "* \n"
   ]
  }
 ],
 "metadata": {
  "kernelspec": {
   "display_name": "Python 3",
   "language": "python",
   "name": "python3"
  },
  "language_info": {
   "codemirror_mode": {
    "name": "ipython",
    "version": 3
   },
   "file_extension": ".py",
   "mimetype": "text/x-python",
   "name": "python",
   "nbconvert_exporter": "python",
   "pygments_lexer": "ipython3",
   "version": "3.6.7"
  },
  "toc": {
   "base_numbering": 1,
   "nav_menu": {},
   "number_sections": true,
   "sideBar": true,
   "skip_h1_title": false,
   "title_cell": "Table of Contents",
   "title_sidebar": "Contents",
   "toc_cell": false,
   "toc_position": {},
   "toc_section_display": true,
   "toc_window_display": false
  }
 },
 "nbformat": 4,
 "nbformat_minor": 2
}
